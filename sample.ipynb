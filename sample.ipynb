{
 "cells": [
  {
   "cell_type": "markdown",
   "id": "e694b642-8529-4687-a8f9-3e157bffdc11",
   "metadata": {},
   "source": [
    "# Walkthrough Sample Notebook\n"
   ]
  },
  {
   "cell_type": "markdown",
   "id": "e6f8d260-183e-47f0-88c5-762e3cf1b668",
   "metadata": {},
   "source": [
    "Here is how I calculate 1+1:"
   ]
  },
  {
   "cell_type": "code",
   "execution_count": 1,
   "id": "5a4e8195-3455-474a-b214-c79b587eb33c",
   "metadata": {},
   "outputs": [
    {
     "data": {
      "text/plain": [
       "2"
      ]
     },
     "execution_count": 1,
     "metadata": {},
     "output_type": "execute_result"
    }
   ],
   "source": [
    "1+1"
   ]
  },
  {
   "cell_type": "code",
   "execution_count": 3,
   "id": "9148e339-238f-47d2-8d2e-474f72fe38bb",
   "metadata": {},
   "outputs": [],
   "source": [
    "from numpy import *"
   ]
  },
  {
   "cell_type": "markdown",
   "id": "dbdf3dbf-b1f5-490c-ba52-4c43d1a0357a",
   "metadata": {},
   "source": [
    "Here is how I calculate `sin`:"
   ]
  },
  {
   "cell_type": "code",
   "execution_count": 4,
   "id": "79f86358-794d-4343-8c43-03df87cc02f7",
   "metadata": {},
   "outputs": [
    {
     "data": {
      "text/plain": [
       "array([0.84147098, 1.        ])"
      ]
     },
     "execution_count": 4,
     "metadata": {},
     "output_type": "execute_result"
    }
   ],
   "source": [
    "a = array([1.0, pi/2])\n",
    "sin(a)"
   ]
  },
  {
   "cell_type": "code",
   "execution_count": null,
   "id": "acc44f0e-9248-473a-8e8d-b599cca7e7eb",
   "metadata": {},
   "outputs": [],
   "source": []
  }
 ],
 "metadata": {
  "kernelspec": {
   "display_name": "Python 3 (ipykernel)",
   "language": "python",
   "name": "python3"
  },
  "language_info": {
   "codemirror_mode": {
    "name": "ipython",
    "version": 3
   },
   "file_extension": ".py",
   "mimetype": "text/x-python",
   "name": "python",
   "nbconvert_exporter": "python",
   "pygments_lexer": "ipython3",
   "version": "3.10.12"
  }
 },
 "nbformat": 4,
 "nbformat_minor": 5
}
